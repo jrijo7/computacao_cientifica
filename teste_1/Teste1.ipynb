{
 "cells": [
  {
   "cell_type": "markdown",
   "id": "819366b2-efde-456b-b632-40ee503c136c",
   "metadata": {},
   "source": [
    "# Computação Científica 1 - 2023.2 - Prof. Adriano Côrtes"
   ]
  },
  {
   "cell_type": "markdown",
   "id": "129ed291-1fac-437e-8e66-e1f89594c8bc",
   "metadata": {
    "tags": []
   },
   "source": [
    "## Teste 1"
   ]
  },
  {
   "cell_type": "markdown",
   "id": "8ad0a842-4b99-46f0-8cf1-0d69c4ccf2fb",
   "metadata": {},
   "source": [
    "***"
   ]
  },
  {
   "cell_type": "markdown",
   "id": "572bac71-067a-412d-98e4-c9ae6d06429b",
   "metadata": {},
   "source": [
    "### Questão 1\n",
    "Explique o comportamento (surpreendente?) do código abaixo"
   ]
  },
  {
   "cell_type": "code",
   "execution_count": 2,
   "id": "9cef38e8-60ba-4d7c-a13a-cc354e0848a6",
   "metadata": {
    "tags": []
   },
   "outputs": [
    {
     "data": {
      "text/plain": [
       "16.88210319127114"
      ]
     },
     "execution_count": 2,
     "metadata": {},
     "output_type": "execute_result"
    }
   ],
   "source": [
    "d = 8\n",
    "e = 2\n",
    "from math import *\n",
    "sqrt(d ** e)"
   ]
  },
  {
   "cell_type": "markdown",
   "id": "920b7bef-6265-4fb6-a12d-c54c2158de43",
   "metadata": {},
   "source": [
    "O motivo é simples, ao realizarmos a importação da biblioteca math através do seguinte trecho from math import *, estaremos importando também \"e\" como sendo o número de euler dado por 2.71828... e com isso ao realizarmos o cálculo sqrt(d**e) obteremos aquele valor 16.88210319127114. Com isso vemos que é importante saber o que estamos importando ao rodarmos o código acima"
   ]
  },
  {
   "cell_type": "markdown",
   "id": "1bf62f1f-2283-448d-929f-3d8cae6769e1",
   "metadata": {
    "tags": []
   },
   "source": [
    "### Questão 2\n",
    "Como sabemos números reais são representados no computador por números de precisão finita, os números em ponto-flutuante. No Python, assim como na maioria das outras linguagens de programação predomina o padrão IEEE-754, em particular a representação em precisão dupla (*double precision*) é o default em Python. Podemos investigar essas informações por meio do módulo `sys`. Essas informações estão atributo `sys.float_info`:"
   ]
  },
  {
   "cell_type": "code",
   "execution_count": 3,
   "id": "0b698456-58bf-47fe-8ca0-ff5749d050e7",
   "metadata": {
    "tags": []
   },
   "outputs": [
    {
     "name": "stdout",
     "output_type": "stream",
     "text": [
      "sys.float_info(max=1.7976931348623157e+308, max_exp=1024, max_10_exp=308, min=2.2250738585072014e-308, min_exp=-1021, min_10_exp=-307, dig=15, mant_dig=53, epsilon=2.220446049250313e-16, radix=2, rounds=1)\n",
      "O menor número representável em ponto-flutuante de precisão dupla é 2.2250738585072014e-308\n",
      "O maior número representável em ponto-flutuante de precisão dupla é 1.7976931348623157e+308\n"
     ]
    }
   ],
   "source": [
    "import sys\n",
    "print(sys.float_info)\n",
    "print('O menor número representável em ponto-flutuante de precisão dupla é {}'.format(sys.float_info.min))\n",
    "print('O maior número representável em ponto-flutuante de precisão dupla é {}'.format(sys.float_info.max))"
   ]
  },
  {
   "cell_type": "markdown",
   "id": "4c17553a-12f8-48d5-a344-4e923c86b0e4",
   "metadata": {},
   "source": [
    "1. O que acontece se você tentar avaliar a expressão $e^{1000}$ que gera um número maior que o maior número representável?\n",
    "2. Como você calcularia a hipotenusa $c$ de um triângulo retângulo cujos catetos são $a = 1.5 \\times 10^{200}$ e $b = 3.5 \\times 10^{201}$? **Note que calcular $a^2$ e $b^2$ não é uma opção, como no item anterior**. Verifique seu resultado usando a função `math.hypot`"
   ]
  },
  {
   "cell_type": "markdown",
   "id": "50aa6787-ea55-45a2-b1a6-ab5b9e6ba262",
   "metadata": {},
   "source": [
    "Ao tentarmos avaliar $e^{1000}$ geramos um número muito grande, maior até que o maior número representável em ponto flutuante. Retornando um OverflowError."
   ]
  },
  {
   "cell_type": "code",
   "execution_count": 4,
   "id": "7d1f48fe",
   "metadata": {},
   "outputs": [
    {
     "ename": "OverflowError",
     "evalue": "(34, 'Result too large')",
     "output_type": "error",
     "traceback": [
      "\u001b[1;31m---------------------------------------------------------------------------\u001b[0m",
      "\u001b[1;31mOverflowError\u001b[0m                             Traceback (most recent call last)",
      "\u001b[1;32m~\\AppData\\Local\\Temp\\ipykernel_16780\\4078475555.py\u001b[0m in \u001b[0;36m<module>\u001b[1;34m\u001b[0m\n\u001b[1;32m----> 1\u001b[1;33m \u001b[0me\u001b[0m\u001b[1;33m**\u001b[0m\u001b[1;36m1000\u001b[0m\u001b[1;33m\u001b[0m\u001b[1;33m\u001b[0m\u001b[0m\n\u001b[0m",
      "\u001b[1;31mOverflowError\u001b[0m: (34, 'Result too large')"
     ]
    }
   ],
   "source": [
    "e**1000"
   ]
  },
  {
   "cell_type": "markdown",
   "id": "a89ef501-cab8-4b41-aaf1-8bef1cfb85c1",
   "metadata": {},
   "source": [
    "Para calcular a hipotenusa $c$ do triângulo retângulo, usaremos a função `math.hypot`."
   ]
  },
  {
   "cell_type": "code",
   "execution_count": 5,
   "id": "c383f679",
   "metadata": {},
   "outputs": [
    {
     "name": "stdout",
     "output_type": "stream",
     "text": [
      "3.5032128111206724e+201\n"
     ]
    }
   ],
   "source": [
    "import math\n",
    "a = 1.5e+200\n",
    "b = 3.5e+201\n",
    "c = math.hypot(a,b)\n",
    "print(c)"
   ]
  },
  {
   "cell_type": "markdown",
   "id": "2de18d9d-86f3-4485-8f41-9a8793e7624a",
   "metadata": {
    "tags": []
   },
   "source": [
    "### Questão 3\n",
    "Usando uma tupla de strings com o nome dos dígitos de $0$ a $9$, crie um trecho de código em Python que imprima até a sétima casas decimais de $\\pi$ na forma de texto, como:\n",
    "\n",
    "`três ponto um quatro um cinco nove dois seis`"
   ]
  },
  {
   "cell_type": "markdown",
   "id": "88a9dbba-7afd-4822-b1cd-eae1f65f42c1",
   "metadata": {},
   "source": [
    "***"
   ]
  },
  {
   "cell_type": "code",
   "execution_count": 13,
   "id": "e76b8c9f",
   "metadata": {},
   "outputs": [
    {
     "name": "stdout",
     "output_type": "stream",
     "text": [
      "três ponto um quatro um cinco nove dois sete "
     ]
    }
   ],
   "source": [
    "numeros = (\"zero\", \"um\", \"dois\", \"três\", \"quatro\", \"cinco\", \"seis\", \"sete\", \"oito\", \"nove\")\n",
    "pi_str = \"{:.7f}\".format(math.pi)\n",
    "for unit in pi_str:\n",
    "    if unit == \".\":\n",
    "        print(\"ponto\", end=\" \")\n",
    "    else:\n",
    "        print(numeros[int(unit)], end=\" \")"
   ]
  },
  {
   "cell_type": "code",
   "execution_count": 7,
   "id": "567300ed",
   "metadata": {},
   "outputs": [
    {
     "name": "stdout",
     "output_type": "stream",
     "text": [
      "3.141592653589793\n"
     ]
    }
   ],
   "source": [
    "print(math.pi)"
   ]
  },
  {
   "cell_type": "markdown",
   "id": "ab2c821c",
   "metadata": {},
   "source": [
    "Perceba que ao utilizarmos a função `math.pi` e fizermos o `{:.7f}.format(math.pi)`, obtemos um arredondamento no sétimo dígito que ao invés de $6$ fica $7$, para alterarmos isso podemos definir $\\pi$ como sendo $3.1415926$"
   ]
  },
  {
   "cell_type": "code",
   "execution_count": 14,
   "id": "ca261d99",
   "metadata": {},
   "outputs": [
    {
     "name": "stdout",
     "output_type": "stream",
     "text": [
      "três ponto um quatro um cinco nove dois seis "
     ]
    }
   ],
   "source": [
    "numeros = (\"zero\", \"um\", \"dois\", \"três\", \"quatro\", \"cinco\", \"seis\", \"sete\", \"oito\", \"nove\")\n",
    "pi_str = \"{:.7f}\".format(3.1415926)\n",
    "for unit in pi_str:\n",
    "    if unit == \".\":\n",
    "        print(\"ponto\", end=\" \")\n",
    "    else:\n",
    "        print(numeros[int(unit)], end=\" \")"
   ]
  },
  {
   "cell_type": "markdown",
   "id": "3236585d-097a-4ad4-a732-bab19db5610d",
   "metadata": {},
   "source": [
    "### Questão 4\n",
    "Escreva um trecho que código Python que imprima de maneira formatada (bonitinha) as oito primeiro linhas do triângulo de Pascal."
   ]
  },
  {
   "cell_type": "code",
   "execution_count": 76,
   "id": "1a45dde0",
   "metadata": {},
   "outputs": [
    {
     "name": "stdout",
     "output_type": "stream",
     "text": [
      "        1 \n",
      "       1 1 \n",
      "      1 2 1 \n",
      "     1 3 3 1 \n",
      "    1 4 6 4 1 \n",
      "   1 5 10 10 5 1 \n",
      "  1 6 15 20 15 6 1 \n",
      " 1 7 21 35 35 21 7 1 \n"
     ]
    }
   ],
   "source": [
    "from math import factorial\n",
    "n = 8 #fiquemos atento que o n neste caso é o número de linhas\n",
    "for i in range(n):\n",
    "    for j in range(n-i):\n",
    "        print(end=\" \")\n",
    "    for j in range(i+1):\n",
    "        print(factorial(i)//(factorial(j)*factorial(i-j)), end=\" \")\n",
    "    print()"
   ]
  },
  {
   "cell_type": "markdown",
   "id": "537aa8be",
   "metadata": {},
   "source": [
    "Para melhor visualização dependendo do objetivo, podemos fazer da seguinte forma:\n",
    "|||||||||\n",
    "|-----|--------|--------|--------|--------|--------|--------|--------|\n",
    "|1|\n",
    "|1    | 1  |\n",
    "|1    | 2  | 1  |\n",
    "|1    | 3  | 3  | 1  |\n",
    "|1    | 4  | 6  | 4  | 1  |\n",
    "|1    | 5  | 10  | 10  | 5  | 1  |\n",
    "|1    | 6  | 15  | 20  | 15  | 6  | 1  |\n",
    "|1    | 7  | 21  | 35  | 35  | 21  | 7  | 1  |"
   ]
  },
  {
   "cell_type": "markdown",
   "id": "1c6fd61e-1eff-499b-936c-25ebeecc244c",
   "metadata": {},
   "source": [
    "### Questão 5\n",
    "1. Crie uma função que receba como entrada um número inteiro $N$ e retorna uma lista com os primeiros $N$ números de Fibonacci.\n",
    "2. A chamada [*lei de Benford*](https://pt.wikipedia.org/wiki/Lei_de_Benford) é uma lei baseada na observação sobre a frequência do primeiro dígito $d \\in \\{1,2,\\ldots,9\\}$ de uma determinada coleção de números (*data sets*). Segundo essa lei a distribuição logaritmica, portanto não-uniforme, dada por $$P(d) = \\log_{10} \\left( \\dfrac{d+1}{d} \\right),$$ ou seja, número começando com $1$ são mais frequentes que os começando com $2$, e assim em diante, com efeito temos aproximadamente\n",
    "\n",
    "| $d$ | $P(d)$ |\n",
    "|-----|--------|\n",
    "|1    | 0.301  |\n",
    "|2    | 0.176  |\n",
    "|3    | 0.125  |\n",
    "|4    | 0.097  |\n",
    "|5    | 0.079  |\n",
    "|6    | 0.067  |\n",
    "|7    | 0.058  |\n",
    "|8    | 0.051  |\n",
    "|9    | 0.046  |\n",
    "\n",
    "Usando a função criada no item anterior calcule a distribuição dos primeiros dígitos da sequência de Fibonacci para $N=500$ e $N=1000$, e avalie se ela segue a lei de Benford."
   ]
  },
  {
   "cell_type": "markdown",
   "id": "7f24d05f",
   "metadata": {},
   "source": [
    "### Primeira parte da questão"
   ]
  },
  {
   "cell_type": "code",
   "execution_count": 61,
   "id": "8e638ddc",
   "metadata": {},
   "outputs": [],
   "source": [
    "# Começamos a questão definindo a sequência de fibonacci como uma função\n",
    "def Fibonacci(N):\n",
    "    if N <= 0:\n",
    "        return []\n",
    "    elif N == 1:\n",
    "        return [0]\n",
    "    elif N == 2:\n",
    "        return [0,1]\n",
    "    else:\n",
    "        fib_seq = [0,1]\n",
    "        while len(fib_seq) <= N:\n",
    "            new_term = fib_seq[-1] + fib_seq[-2]\n",
    "            fib_seq.append(new_term)\n",
    "    return fib_seq"
   ]
  },
  {
   "cell_type": "markdown",
   "id": "1f942d60",
   "metadata": {},
   "source": [
    "### Segunda parte da questão"
   ]
  },
  {
   "cell_type": "code",
   "execution_count": 63,
   "id": "720903ed",
   "metadata": {},
   "outputs": [
    {
     "name": "stdout",
     "output_type": "stream",
     "text": [
      "[0.302, 0.176, 0.126, 0.094, 0.08, 0.066, 0.058, 0.054, 0.044]\n"
     ]
    }
   ],
   "source": [
    "# Agora iremos calcular as proporções para N = 500\n",
    "fib_seq = Fibonacci(500)\n",
    "first_seq = [0,0,0,0,0,0,0,0,0]\n",
    "for num in fib_seq:\n",
    "    first_num = int(str(num)[0])\n",
    "    if first_num != 0:\n",
    "        first_seq[first_num-1] += 1\n",
    "    \n",
    "total = sum(first_seq)\n",
    "proportion = []\n",
    "for first in first_seq:\n",
    "    proportion_count = first/total\n",
    "    proportion.append(proportion_count)\n",
    "print(proportion)"
   ]
  },
  {
   "cell_type": "markdown",
   "id": "1ecda2ce",
   "metadata": {},
   "source": [
    "Temos então para N = 500:\n",
    "\n",
    "| First Num | Proportion |\n",
    "|-----|--------|\n",
    "|1    | 0.302  |\n",
    "|2    | 0.176  |\n",
    "|3    | 0.126  |\n",
    "|4    | 0.094  |\n",
    "|5    | 0.08  |\n",
    "|6    | 0.066  |\n",
    "|7    | 0.058  |\n",
    "|8    | 0.054  |\n",
    "|9    | 0.044  |"
   ]
  },
  {
   "cell_type": "code",
   "execution_count": 65,
   "id": "dac3933e",
   "metadata": {},
   "outputs": [
    {
     "name": "stdout",
     "output_type": "stream",
     "text": [
      "[0.301, 0.177, 0.125, 0.096, 0.08, 0.067, 0.056, 0.053, 0.045]\n"
     ]
    }
   ],
   "source": [
    "# Agora iremos calcular as proporções para N = 1000\n",
    "fib_seq = Fibonacci(1000)\n",
    "first_seq = [0,0,0,0,0,0,0,0,0]\n",
    "for num in fib_seq:\n",
    "    first_num = int(str(num)[0])\n",
    "    if first_num != 0:\n",
    "        first_seq[first_num-1] += 1\n",
    "    \n",
    "total = sum(first_seq)\n",
    "proportion = []\n",
    "for first in first_seq:\n",
    "    proportion_count = first/total\n",
    "    proportion.append(proportion_count)\n",
    "print(proportion)"
   ]
  },
  {
   "cell_type": "markdown",
   "id": "d53943f2",
   "metadata": {},
   "source": [
    "Temos então para N = 1000:\n",
    "\n",
    "| First Num | Proportion |\n",
    "|-----|--------|\n",
    "|1    | 0.301  |\n",
    "|2    | 0.177  |\n",
    "|3    | 0.125  |\n",
    "|4    | 0.096  |\n",
    "|5    | 0.08  |\n",
    "|6    | 0.067  |\n",
    "|7    | 0.056  |\n",
    "|8    | 0.053  |\n",
    "|9    | 0.045  |"
   ]
  },
  {
   "cell_type": "code",
   "execution_count": 66,
   "id": "bf3c60ca",
   "metadata": {},
   "outputs": [],
   "source": [
    "# Vale lembrar que os valores esperados segundo a lei de Benford são:\n",
    "benford = [0.301,0.176,0.125,0.097,0.079,0.067, 0.058, 0.051, 0.046]\n"
   ]
  },
  {
   "cell_type": "markdown",
   "id": "c498c212-85dc-40df-894f-b3fa60f0024e",
   "metadata": {},
   "source": [
    "Como os valores calculados se aproximam muito dos valores esperados pela Lei de Benford, podemos dizer que a sequência de Fibonacci segue a lei para os primeiros dígitos."
   ]
  },
  {
   "cell_type": "markdown",
   "id": "0b700d9a-a6db-48d6-a78e-1aed8bd8d805",
   "metadata": {},
   "source": [
    "### Questão 6\n",
    "Escreva um loop usando `while` para calcular a [média aritmética-geometrica](https://en.wikipedia.org/wiki/Arithmetic%E2%80%93geometric_mean) (AGM) de dois números reais positivos, $x$ e $y$, definida como o limite das sequência:\n",
    "\n",
    "$$ \n",
    "\\begin{align}\n",
    "a_{n+1} &= \\frac{1}{2} (a_n + g_n), \\\\\n",
    "g_{n+1} &= \\sqrt{a_n g_n},\n",
    "\\end{align}\n",
    "$$\n",
    "\n",
    "começando com $a_0 = x$ e $g_0 = y$. Ambas as sequências convergem para o mesmo número, denotado por $\\textrm{agm}(x,y)$. Use sua implementação para calcular a constante de *Gauss*, $G = 1/\\textrm{agm}(1,\\sqrt{2})$.\n",
    "\n",
    "**Importante:** Você terá que usar um critério de parada para iteração. "
   ]
  },
  {
   "cell_type": "code",
   "execution_count": 59,
   "id": "0cd6b9d8",
   "metadata": {},
   "outputs": [],
   "source": [
    "# Vamos começar definindo a função da média aritmética-geométrica\n",
    "def agm(x,y,tol=1e-16):\n",
    "    a_n = x\n",
    "    g_n = y\n",
    "    while abs(a_n - g_n) > tol:\n",
    "        a_n, g_n = (a_n + g_n)/2, math.sqrt(a_n * g_n)\n",
    "        \n",
    "    return g_n"
   ]
  },
  {
   "cell_type": "code",
   "execution_count": 67,
   "id": "0ef1346f",
   "metadata": {},
   "outputs": [
    {
     "name": "stdout",
     "output_type": "stream",
     "text": [
      "0.8346268416740731\n"
     ]
    }
   ],
   "source": [
    "# Agora calcularemos a constante de gauss\n",
    "G = 1/agm(1,math.sqrt(2))\n",
    "print(G)"
   ]
  }
 ],
 "metadata": {
  "kernelspec": {
   "display_name": "Python 3 (ipykernel)",
   "language": "python",
   "name": "python3"
  },
  "language_info": {
   "codemirror_mode": {
    "name": "ipython",
    "version": 3
   },
   "file_extension": ".py",
   "mimetype": "text/x-python",
   "name": "python",
   "nbconvert_exporter": "python",
   "pygments_lexer": "ipython3",
   "version": "3.9.17"
  }
 },
 "nbformat": 4,
 "nbformat_minor": 5
}
